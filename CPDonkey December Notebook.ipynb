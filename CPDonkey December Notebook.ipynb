{
 "cells": [
  {
   "cell_type": "markdown",
   "metadata": {},
   "source": [
    "# CPDonkey December Notebook\n",
    "Notebook detailing the formation of a donkeycar pilot using a Deep CNN and a single input image"
   ]
  },
  {
   "cell_type": "code",
   "execution_count": 1,
   "metadata": {},
   "outputs": [],
   "source": [
    "##Data Profile\n",
    "\n",
    "#Image Data Example\n",
    "\n",
    "#Labels"
   ]
  },
  {
   "cell_type": "code",
   "execution_count": 2,
   "metadata": {},
   "outputs": [],
   "source": [
    "#IMPORTS\n",
    "import tensorflow as tf\n",
    "import matplotlib.pyplot as plt"
   ]
  },
  {
   "cell_type": "markdown",
   "metadata": {},
   "source": [
    "The data that is fed into the donkeycar's pilot is a single input image. The donkeycar must be able to determine from this image whether to turn left or right. \n",
    "\n",
    "This image is a photo taken by the Donkeycar's front-facing camera with a resolution of 120x160. Each image, when taken, is labeled with a left or right"
   ]
  },
  {
   "cell_type": "code",
   "execution_count": 10,
   "metadata": {},
   "outputs": [],
   "source": [
    "##What must be determined to achieve 'portability'\n",
    "\n",
    "#Lane Detection\n",
    "\n",
    "#Background/Foreground Separation"
   ]
  },
  {
   "cell_type": "code",
   "execution_count": 11,
   "metadata": {},
   "outputs": [],
   "source": [
    "##Preprocessing for Lane Detection\n",
    "\n",
    "#Edge Detection\n",
    "\n",
    "#Thresholding\n",
    "\n",
    "#The idea of a U-Net"
   ]
  },
  {
   "cell_type": "code",
   "execution_count": 12,
   "metadata": {},
   "outputs": [],
   "source": [
    "##U-Net\n",
    "\n",
    "#Setting Up Labels\n",
    "\n",
    "#Training and Validation Data setup\n",
    "\n",
    "#Network Design #1\n",
    "\n",
    "#Network Training and Validation #1 - Dashboard of Results and Histograms - Live Validation/Training May Take too long\n",
    "\n",
    "#Network Design and Dashboard #n\n",
    "\n",
    "#Final Network Choice Based on Metrics"
   ]
  },
  {
   "cell_type": "code",
   "execution_count": 13,
   "metadata": {},
   "outputs": [],
   "source": [
    "##Main Decision Network\n",
    "\n",
    "#New Data Labeling and Organisation\n",
    "\n",
    "#Network Design - Direct Model from Donkeycar\n",
    "\n",
    "#Donkeycar Design Dashboard with intermediate features -single validation example\n",
    "\n",
    "#Network Design - Own Design 1 \n",
    "\n",
    "#Own Design 1 Dashboard with intermediate features - single validation example\n",
    "\n",
    "#Own Design #n etc.\n"
   ]
  },
  {
   "cell_type": "code",
   "execution_count": 14,
   "metadata": {},
   "outputs": [],
   "source": [
    "#Final Design Choices\n"
   ]
  },
  {
   "cell_type": "code",
   "execution_count": 15,
   "metadata": {},
   "outputs": [],
   "source": [
    "#Compiled Full Pilot System - I.P.O and dashboard with selectable input images "
   ]
  },
  {
   "cell_type": "code",
   "execution_count": null,
   "metadata": {},
   "outputs": [],
   "source": []
  }
 ],
 "metadata": {
  "kernelspec": {
   "display_name": "Python 3",
   "language": "python",
   "name": "python3"
  },
  "language_info": {
   "codemirror_mode": {
    "name": "ipython",
    "version": 3
   },
   "file_extension": ".py",
   "mimetype": "text/x-python",
   "name": "python",
   "nbconvert_exporter": "python",
   "pygments_lexer": "ipython3",
   "version": "3.7.5"
  }
 },
 "nbformat": 4,
 "nbformat_minor": 2
}
