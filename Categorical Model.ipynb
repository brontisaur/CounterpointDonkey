{
 "cells": [
  {
   "cell_type": "markdown",
   "metadata": {},
   "source": [
    "# Categorical Model Dedicated Notebook"
   ]
  },
  {
   "cell_type": "markdown",
   "metadata": {},
   "source": [
    "## Data Admin:"
   ]
  },
  {
   "cell_type": "code",
   "execution_count": 38,
   "metadata": {},
   "outputs": [
    {
     "name": "stdout",
     "output_type": "stream",
     "text": [
      "15795\n",
      "15795\n",
      "15795\n",
      "15795\n",
      "(15795, 28, 28, 3)\n",
      "11562\n"
     ]
    },
    {
     "data": {
      "image/png": "[encoded data removed]",
      "text/plain": [
       "<Figure size 432x288 with 1 Axes>"
      ]
     },
     "metadata": {
      "needs_background": "light"
     },
     "output_type": "display_data"
    },
    {
     "name": "stdout",
     "output_type": "stream",
     "text": [
      "[0. 0. 1.]\n"
     ]
    }
   ],
   "source": [
    "import os\n",
    "import natsort\n",
    "import numpy as np\n",
    "import cv2\n",
    "import json\n",
    "import tensorflow as tf\n",
    "from random import randrange\n",
    "\n",
    "import matplotlib.pyplot as plt\n",
    "\n",
    "%matplotlib inline\n",
    "\n",
    "#finding and sorting images and label data: - Unthresholded Images!\n",
    "path = 'halldatarecords2/'\n",
    "\n",
    "im_list = []\n",
    "\n",
    "rec_list = []\n",
    "\n",
    "for file in os.listdir(path):\n",
    "    if 'cam' in file:\n",
    "        im_list.append(file)\n",
    "    elif 'record' in file:\n",
    "        rec_list.append(file)\n",
    "\n",
    "        \n",
    "print(len(im_list))\n",
    "print(len(rec_list))\n",
    "\n",
    "im_list.sort(key=lambda f: int(''.join(filter(str.isdigit, f))))\n",
    "rec_list.sort(key=lambda f: int(''.join(filter(str.isdigit, f))))\n",
    "\n",
    "#reading in array of images:\n",
    "width = 28#img.shape[1] # keep original width\n",
    "height = 28\n",
    "color = 3\n",
    "dim = (width, height)\n",
    "#width, height, color\n",
    "#x_images = np.zeros((len(rec_list), 120, 160, 3), dtype = np.float32)\n",
    "x_images = np.zeros((len(rec_list), width, height, color), dtype = np.float32)\n",
    "\n",
    "randomImage = randrange(len(x_images))#14909\n",
    "for i in range(len(im_list)):\n",
    "    filename = im_list[i]\n",
    "    image = cv2.imread(path+filename)\n",
    "    image = cv2.threshold(image, 128, 128, cv2.THRESH_BINARY)[1]\n",
    "    image = cv2.resize(image,(height,width),interpolation = cv2.INTER_AREA)\n",
    "    x_images[i,:,:,:] = tf.cast(image, tf.float32)\n",
    "    \n",
    "#loop over labels and create a list of left/right/straight based on a degree threshold (one-hot encoding?)\n",
    "json_data = {}\n",
    "y_labels = np.zeros((len(rec_list),3), dtype=np.float32) #setup label array for one-hot encoded left, right and straight\n",
    "for i in range(len(rec_list)):\n",
    "    filename = rec_list[i]\n",
    "    with open(path+filename) as fp:\n",
    "        json_data = json.load(fp)\n",
    "        orient = json_data['user/angle']\n",
    "        orient = float(orient)\n",
    "        if orient > 0.05:\n",
    "            y_labels[i] = [0,0,1] #right\n",
    "            \n",
    "        elif orient < -0.05:\n",
    "            y_labels[i] = [1,0,0] #left\n",
    "            \n",
    "        else:\n",
    "            y_labels[i] = [0,1,0] #straight\n",
    "            \n",
    "print(len(x_images))\n",
    "print(len(y_labels))\n",
    "print(x_images.shape)\n",
    "print(randomImage)\n",
    "plt.imshow(x_images[randomImage].astype('uint8'))\n",
    "plt.show()\n",
    "print(y_labels[randomImage])"
   ]
  },
  {
   "cell_type": "code",
   "execution_count": 39,
   "metadata": {},
   "outputs": [
    {
     "name": "stdout",
     "output_type": "stream",
     "text": [
      "(15795, 3)\n",
      "700\n",
      "1700\n",
      "2700\n",
      "3700\n",
      "4700\n",
      "5700\n",
      "6700\n",
      "7700\n",
      "8700\n",
      "9700\n",
      "10700\n",
      "11700\n",
      "12700\n",
      "13700\n",
      "14700\n",
      "(11057, 28, 28, 3)\n",
      "(4739, 28, 28, 3)\n",
      "(11057, 3)\n",
      "(4739, 3)\n",
      "[1. 0. 0.]\n"
     ]
    },
    {
     "data": {
      "image/png": "[encoded data removed]",
      "text/plain": [
       "<Figure size 432x288 with 1 Axes>"
      ]
     },
     "metadata": {
      "needs_background": "light"
     },
     "output_type": "display_data"
    }
   ],
   "source": [
    "#training and validation split:\n",
    "\n",
    "memv = 0\n",
    "memt = 0\n",
    "#x_val = np.zeros((round(len(x_images)*0.3)+1,120,160,3), dtype=np.float32)\n",
    "#x_train = np.zeros((round(len(x_images)*0.7)+1,120,160,3), dtype=np.float32)\n",
    "#y_val = np.zeros((round(len(x_images)*0.3)+1,3), dtype=np.float32)\n",
    "#y_train = np.zeros((round(len(x_images)*0.7)+1,3), dtype=np.float32)\n",
    "x_val = np.zeros((round(len(x_images)*0.3)+1,width, height, color), dtype=np.float32)\n",
    "x_train = np.zeros((round(len(x_images)*0.7)+1,width, height, color), dtype=np.float32)\n",
    "y_val = np.zeros((round(len(x_images)*0.3)+1,3), dtype=np.float32)\n",
    "y_train = np.zeros((round(len(x_images)*0.7)+1,3), dtype=np.float32)\n",
    "\n",
    "n=0\n",
    "print(y_labels.shape)\n",
    "\n",
    "for i in range(len(x_images)):\n",
    "    if (i>=1000)and(i % 1000 == 0):\n",
    "        j = i - 300\n",
    "        k = i - 1000\n",
    "        print(j)\n",
    "        o = 0\n",
    "        p = 0\n",
    "        for l in range(0+n*300, n*300+300):\n",
    "            #x_val[l] = x_images[j+o,:,:,:]\n",
    "            x_val[l] = x_images[j+o,:,:,:]\n",
    "            y_val[l] = y_labels[j+o]\n",
    "            o +=1\n",
    "        for m in range(0+n*700, n*700+700):\n",
    "            #x_train[m] = x_images[k+p,:,:,:]\n",
    "            x_train[m] = x_images[k+p,:,:,:]\n",
    "            y_train[m] = y_labels[k+p]\n",
    "            p+=1\n",
    "        n+=1\n",
    "        \n",
    "print(x_train.shape)\n",
    "print(x_val.shape)\n",
    "\n",
    "print(y_train.shape)\n",
    "print(y_val.shape)\n",
    "\n",
    "print(y_val[1000])\n",
    "plt.imshow(x_val[1000].astype('uint8'))\n",
    "plt.show()\n",
    "#obtaining test data\n",
    "\n",
    "#relabeling test data"
   ]
  },
  {
   "cell_type": "markdown",
   "metadata": {},
   "source": [
    "## Model Setup:"
   ]
  },
  {
   "cell_type": "code",
   "execution_count": 40,
   "metadata": {
    "scrolled": true
   },
   "outputs": [
    {
     "name": "stdout",
     "output_type": "stream",
     "text": [
      "Model: \"sequential_4\"\n",
      "_________________________________________________________________\n",
      "Layer (type)                 Output Shape              Param #   \n",
      "=================================================================\n",
      "conv2d_12 (Conv2D)           (None, 12, 12, 24)        1824      \n",
      "_________________________________________________________________\n",
      "conv2d_13 (Conv2D)           (None, 5, 5, 32)          6944      \n",
      "_________________________________________________________________\n",
      "conv2d_14 (Conv2D)           (None, 2, 2, 64)          18496     \n",
      "_________________________________________________________________\n",
      "flatten_4 (Flatten)          (None, 256)               0         \n",
      "_________________________________________________________________\n",
      "dense_12 (Dense)             (None, 100)               25700     \n",
      "_________________________________________________________________\n",
      "dense_13 (Dense)             (None, 50)                5050      \n",
      "_________________________________________________________________\n",
      "dense_14 (Dense)             (None, 3)                 153       \n",
      "=================================================================\n",
      "Total params: 58,167\n",
      "Trainable params: 58,167\n",
      "Non-trainable params: 0\n",
      "_________________________________________________________________\n"
     ]
    }
   ],
   "source": [
    "# Imports: Tensorflow 1.14.0 is used\n",
    "import os\n",
    "import numpy as np\n",
    "\n",
    "from tensorflow.python import keras\n",
    "from tensorflow.python.keras.layers import Input, Dense\n",
    "from tensorflow.python.keras.models import Model, Sequential\n",
    "from tensorflow.python.keras.layers import Convolution2D, MaxPooling2D, Reshape, BatchNormalization\n",
    "from tensorflow.python.keras.layers import Activation, Dropout, Flatten, Cropping2D, Lambda\n",
    "\n",
    "#Model Structure Setup: no dropout, no regularization yet\n",
    "\n",
    "#model = ''\n",
    "model = Sequential()\n",
    "#model.add(Convolution2D(24, (5,5), strides=(2,2), activation='relu', input_shape=(120, 160, 3)))\n",
    "model.add(Convolution2D(24, (5,5), strides=(2,2), activation='relu', input_shape=(28,28,3)))\n",
    "model.add(Convolution2D(32, (3,3), strides=(2,2), activation='relu'))\n",
    "model.add(Convolution2D(64, (3,3), strides=(2,2), activation='relu'))\n",
    "#model.add(Convolution2D(64, (3,3), strides=(1,1), activation='relu'))\n",
    "model.add(Flatten())\n",
    "model.add(Dense(100, activation='relu'))\n",
    "model.add(Dense(50, activation='relu'))\n",
    "model.add(Dense(3, activation='softmax'))\n",
    "#model = keras.Sequential([\n",
    "#    keras.layers.Flatten(input_shape=(28, 28,3)),\n",
    "#    keras.layers.Dense(128, activation='relu'),\n",
    "#    keras.layers.Dense(10, activation='softmax')\n",
    "#])\n",
    "# Compile model:\n",
    "#model.compile(optimizer='SGD',\n",
    "#              loss='binary_crossentropy',\n",
    "#             metrics=['accuracy'])\n",
    "\n",
    "#model.compile(optimizer='adam',\n",
    "#    loss='categorical_crossentropy',\n",
    "#    metrics=['categorical_accuracy'])\n",
    "\n",
    "#model.compile(optimizer='adam',\n",
    "#    loss='binary_crossentropy',\n",
    "#    metrics=['binary_accuracy'])\n",
    "\n",
    "model.compile(optimizer='SGD',\n",
    "    loss='categorical_crossentropy',\n",
    "    metrics=['accuracy'])\n",
    "\n",
    "model.summary()"
   ]
  },
  {
   "cell_type": "markdown",
   "metadata": {},
   "source": [
    "## Training and Validation:"
   ]
  },
  {
   "cell_type": "code",
   "execution_count": 47,
   "metadata": {},
   "outputs": [
    {
     "name": "stdout",
     "output_type": "stream",
     "text": [
      "Train on 11057 samples, validate on 4739 samples\n",
      "Epoch 1/20\n",
      "11057/11057 [==============================] - 1s 103us/sample - loss: 0.0925 - accuracy: 0.9148 - val_loss: 1.0018 - val_accuracy: 0.6942\n",
      "Epoch 2/20\n",
      "11057/11057 [==============================] - 1s 106us/sample - loss: 0.0841 - accuracy: 0.9195 - val_loss: 1.1505 - val_accuracy: 0.7350\n",
      "Epoch 3/20\n",
      "11057/11057 [==============================] - 1s 117us/sample - loss: 0.0808 - accuracy: 0.9214 - val_loss: 1.2400 - val_accuracy: 0.7137\n",
      "Epoch 4/20\n",
      "11057/11057 [==============================] - 1s 110us/sample - loss: 0.0713 - accuracy: 0.9265 - val_loss: 1.4345 - val_accuracy: 0.7215\n",
      "Epoch 5/20\n",
      "11057/11057 [==============================] - 1s 108us/sample - loss: 0.0678 - accuracy: 0.9261 - val_loss: 1.1626 - val_accuracy: 0.7084\n",
      "Epoch 6/20\n",
      "11057/11057 [==============================] - 1s 114us/sample - loss: 0.0810 - accuracy: 0.9200 - val_loss: 1.1833 - val_accuracy: 0.7077\n",
      "Epoch 7/20\n",
      "11057/11057 [==============================] - 1s 127us/sample - loss: 0.0666 - accuracy: 0.9266 - val_loss: 1.2776 - val_accuracy: 0.6881\n",
      "Epoch 8/20\n",
      "11057/11057 [==============================] - 1s 108us/sample - loss: 0.0621 - accuracy: 0.9287 - val_loss: 1.3645 - val_accuracy: 0.7200\n",
      "Epoch 9/20\n",
      "11057/11057 [==============================] - 1s 106us/sample - loss: 0.0549 - accuracy: 0.9302 - val_loss: 1.4789 - val_accuracy: 0.7234\n",
      "Epoch 10/20\n",
      "11057/11057 [==============================] - 1s 105us/sample - loss: 0.0584 - accuracy: 0.9291 - val_loss: 1.4624 - val_accuracy: 0.7282\n",
      "Epoch 11/20\n",
      "11057/11057 [==============================] - 1s 111us/sample - loss: 0.0802 - accuracy: 0.9212 - val_loss: 1.3534 - val_accuracy: 0.7166\n",
      "Epoch 12/20\n",
      "11057/11057 [==============================] - 1s 104us/sample - loss: 0.0526 - accuracy: 0.9318 - val_loss: 1.4035 - val_accuracy: 0.7221\n",
      "Epoch 13/20\n",
      "11057/11057 [==============================] - 1s 106us/sample - loss: 0.0511 - accuracy: 0.9320 - val_loss: 1.4952 - val_accuracy: 0.7244\n",
      "Epoch 14/20\n",
      "11057/11057 [==============================] - 1s 109us/sample - loss: 0.0478 - accuracy: 0.9339 - val_loss: 1.5584 - val_accuracy: 0.7225\n",
      "Epoch 15/20\n",
      "11057/11057 [==============================] - 1s 114us/sample - loss: 0.0505 - accuracy: 0.9310 - val_loss: 1.4379 - val_accuracy: 0.7189\n",
      "Epoch 16/20\n",
      "11057/11057 [==============================] - 1s 111us/sample - loss: 0.0478 - accuracy: 0.9330 - val_loss: 1.3259 - val_accuracy: 0.7039\n",
      "Epoch 17/20\n",
      "11057/11057 [==============================] - 1s 115us/sample - loss: 0.0477 - accuracy: 0.9337 - val_loss: 1.2987 - val_accuracy: 0.7080\n",
      "Epoch 18/20\n",
      "11057/11057 [==============================] - 1s 119us/sample - loss: 0.0458 - accuracy: 0.9329 - val_loss: 1.4348 - val_accuracy: 0.7185\n",
      "Epoch 19/20\n",
      "11057/11057 [==============================] - 2s 140us/sample - loss: 0.0450 - accuracy: 0.9327 - val_loss: 1.6397 - val_accuracy: 0.7212\n",
      "Epoch 20/20\n",
      "11057/11057 [==============================] - 1s 118us/sample - loss: 0.0441 - accuracy: 0.9341 - val_loss: 1.6600 - val_accuracy: 0.7168\n"
     ]
    },
    {
     "data": {
      "text/plain": [
       "<tensorflow.python.keras.callbacks.History at 0x188c2336948>"
      ]
     },
     "execution_count": 47,
     "metadata": {},
     "output_type": "execute_result"
    }
   ],
   "source": [
    "model.fit(x_train, y_train, epochs=20, batch_size=200, validation_data=(x_val, y_val), shuffle=True, verbose=1)"
   ]
  },
  {
   "cell_type": "code",
   "execution_count": 48,
   "metadata": {},
   "outputs": [
    {
     "name": "stdout",
     "output_type": "stream",
     "text": [
      "4739/1 - 0s - loss: 0.8300 - accuracy: 0.7168\n"
     ]
    },
    {
     "data": {
      "text/plain": [
       "[1.6599709478859075, 0.7168179]"
      ]
     },
     "execution_count": 48,
     "metadata": {},
     "output_type": "execute_result"
    }
   ],
   "source": [
    "# Let's Evaluate\n",
    "model.evaluate(x_val,  y_val, verbose=2)"
   ]
  },
  {
   "cell_type": "code",
   "execution_count": 46,
   "metadata": {},
   "outputs": [
    {
     "name": "stdout",
     "output_type": "stream",
     "text": [
      "right\n",
      "Expected\n",
      "[0. 0. 1.]\n",
      "Predicted\n",
      "[1.4018614e-06 3.3436320e-06 9.9999523e-01]\n"
     ]
    },
    {
     "data": {
      "image/png": "[encoded data removed]",
      "text/plain": [
       "<Figure size 432x288 with 1 Axes>"
      ]
     },
     "metadata": {
      "needs_background": "light"
     },
     "output_type": "display_data"
    },
    {
     "name": "stdout",
     "output_type": "stream",
     "text": [
      "right\n",
      "Expected\n",
      "[0. 0. 1.]\n",
      "Predicted\n",
      "[7.547313e-09 9.726074e-06 9.999902e-01]\n"
     ]
    },
    {
     "data": {
      "image/png": "[encoded data removed]",
      "text/plain": [
       "<Figure size 432x288 with 1 Axes>"
      ]
     },
     "metadata": {
      "needs_background": "light"
     },
     "output_type": "display_data"
    },
    {
     "name": "stdout",
     "output_type": "stream",
     "text": [
      "right\n",
      "Expected\n",
      "[0. 0. 1.]\n",
      "Predicted\n",
      "[1.9484591e-07 4.2268369e-11 9.9999976e-01]\n"
     ]
    },
    {
     "data": {
      "image/png": "[encoded data removed]",
      "text/plain": [
       "<Figure size 432x288 with 1 Axes>"
      ]
     },
     "metadata": {
      "needs_background": "light"
     },
     "output_type": "display_data"
    }
   ],
   "source": [
    "out = model.predict(x_images, batch_size=200)\n",
    "\n",
    "pointOne = randomImage\n",
    "pointTwo = randomImage\n",
    "pointThree = randomImage\n",
    "\n",
    "if randomImage >= 100:\n",
    "    pointOne = randomImage - 100\n",
    "else:\n",
    "    pointOne = 0\n",
    "    \n",
    "if randomImage <= len(x_images) + 100:\n",
    "    pointThree = randomImage + 100\n",
    "else:\n",
    "    pointThree = len(x_images)\n",
    "\n",
    "if round(out[pointOne,0]) == 1:\n",
    "    print('left')\n",
    "elif round(out[pointOne, 1]) == 1:\n",
    "    print('straight')\n",
    "elif round(out[pointOne, 2]) == 1:\n",
    "    print('right')\n",
    "print('Expected')\n",
    "print(y_labels[pointOne])\n",
    "print('Predicted')\n",
    "print(out[pointOne])\n",
    "plt.imshow(x_images[pointOne].astype('uint8'))\n",
    "plt.show()\n",
    "\n",
    "if round(out[pointTwo,0]) == 1:\n",
    "    print('left')\n",
    "elif round(out[pointTwo, 1]) == 1:\n",
    "    print('straight')\n",
    "elif round(out[pointTwo, 2]) == 1:\n",
    "    print('right')\n",
    "print('Expected')\n",
    "print(y_labels[pointTwo])\n",
    "print('Predicted')\n",
    "print(out[pointTwo])\n",
    "plt.imshow(x_images[pointTwo].astype('uint8'))\n",
    "plt.show()\n",
    "\n",
    "if round(out[pointThree,0]) == 1:\n",
    "    print('left')\n",
    "elif round(out[pointThree, 1]) == 1:\n",
    "    print('straight')\n",
    "elif round(out[pointThree, 2]) == 1:\n",
    "    print('right')\n",
    "print('Expected')\n",
    "print(y_labels[pointThree])\n",
    "print('Predicted')\n",
    "print(out[pointThree])\n",
    "plt.imshow(x_images[pointThree].astype('uint8'))\n",
    "plt.show()"
   ]
  }
 ],
 "metadata": {
  "kernelspec": {
   "display_name": "Python 3",
   "language": "python",
   "name": "python3"
  },
  "language_info": {
   "codemirror_mode": {
    "name": "ipython",
    "version": 3
   },
   "file_extension": ".py",
   "mimetype": "text/x-python",
   "name": "python",
   "nbconvert_exporter": "python",
   "pygments_lexer": "ipython3",
   "version": "3.7.4"
  }
 },
 "nbformat": 4,
 "nbformat_minor": 4
}
