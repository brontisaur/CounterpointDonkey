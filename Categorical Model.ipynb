{
 "cells": [
  {
   "cell_type": "markdown",
   "metadata": {},
   "source": [
    "# Categorical Model Dedicated Notebook"
   ]
  },
  {
   "cell_type": "markdown",
   "metadata": {},
   "source": [
    "## Data Admin:"
   ]
  },
  {
   "cell_type": "code",
   "execution_count": 47,
   "metadata": {},
   "outputs": [
    {
     "name": "stdout",
     "output_type": "stream",
     "text": [
      "15795\n",
      "15795\n",
      "Loaded images on average at 166.99708768597657us\n",
      "Calculated angles on average at 23.90553972776195us\n",
      "31590\n",
      "31590\n",
      "(31590, 50, 50, 3)\n",
      "17787\n"
     ]
    },
    {
     "data": {
      "image/png": "[encoded data removed]",
      "text/plain": [
       "<Figure size 432x288 with 1 Axes>"
      ]
     },
     "metadata": {
      "needs_background": "light"
     },
     "output_type": "display_data"
    },
    {
     "name": "stdout",
     "output_type": "stream",
     "text": [
      "[1. 0. 0. 0. 0. 0. 0. 0. 0.]\n"
     ]
    }
   ],
   "source": [
    "import os\n",
    "import natsort\n",
    "import numpy as np\n",
    "import cv2\n",
    "import json\n",
    "import tensorflow as tf\n",
    "from random import randrange\n",
    "import datetime \n",
    "\n",
    "import matplotlib.pyplot as plt\n",
    "\n",
    "%matplotlib inline\n",
    "\n",
    "#finding and sorting images and label data: - Unthresholded Images!\n",
    "path = 'halldatarecords2/'\n",
    "\n",
    "im_list = []\n",
    "\n",
    "rec_list = []\n",
    "\n",
    "for file in os.listdir(path):\n",
    "    if 'cam' in file:\n",
    "        im_list.append(file)\n",
    "    elif 'record' in file:\n",
    "        rec_list.append(file)\n",
    "\n",
    "        \n",
    "print(len(im_list))\n",
    "print(len(rec_list))\n",
    "\n",
    "im_list.sort(key=lambda f: int(''.join(filter(str.isdigit, f))))\n",
    "rec_list.sort(key=lambda f: int(''.join(filter(str.isdigit, f))))\n",
    "\n",
    "#reading in array of images:\n",
    "width = 50#160\n",
    "height = 50#120\n",
    "color = 3\n",
    "#x_images = np.zeros((len(rec_list), 120, 160, 3), dtype = np.float32)\n",
    "x_images = np.zeros((len(rec_list)*2, height, width, color), dtype = np.float32)\n",
    "\n",
    "randomImage = randrange(len(x_images))#14909\n",
    "preprocessDelta = np.zeros(len(rec_list), dtype = np.uint8)\n",
    "for i in range(len(im_list)):\n",
    "    start = datetime.datetime.now()\n",
    "    filename = im_list[i]\n",
    "    image = cv2.imread(path+filename)\n",
    "    image = cv2.resize(image,(height,width),interpolation = cv2.INTER_AREA)\n",
    "    beta = 100-(np.average(image)/255)*100\n",
    "    image = cv2.convertScaleAbs(image, alpha=1.0, beta=beta)    \n",
    "    #image = cv2.cvtColor(image, cv2.COLOR_BGR2GRAY)\n",
    "    #image = cv2.adaptiveThreshold(image,255,cv2.ADAPTIVE_THRESH_MEAN_C,cv2.THRESH_BINARY_INV,11,2)\n",
    "    image = image.astype('uint8')\n",
    "    #image = image[..., None]\n",
    "    #x_images[i,:,:,:] = tf.cast(image[..., None], tf.float32)\n",
    "    x_images[i,:,:,:] = tf.cast(image, tf.float32)\n",
    "    #x_images[i+len(rec_list),:,:,:] = tf.cast(cv2.flip(image, 1)[..., None], tf.float32)\n",
    "    x_images[i+len(rec_list),:,:,:] = tf.cast(cv2.flip(image, 1), tf.float32)\n",
    "    end = datetime.datetime.now()\n",
    "    preprocessDelta[i] = (end-start).microseconds\n",
    "    \n",
    "def getAngle(orient):\n",
    "    angle = [0,0,0,0,0,0,0,0,0]\n",
    "    if orient > (35.0/45.0):\n",
    "        angle = [0,0,0,0,0,0,0,0,1] #35+ right\n",
    "    elif orient > (25.0/45.0):\n",
    "        angle = [0,0,0,0,0,0,0,1,0] #25+ right\n",
    "    elif orient > (15.0/45.0):\n",
    "        angle = [0,0,0,0,0,0,1,0,0] #15+ right\n",
    "    elif orient > (5.0/45.0):\n",
    "        angle = [0,0,0,0,0,1,0,0,0] #5+ right\n",
    "    elif orient < -1*(35.0/45.0):\n",
    "        angle = [1,0,0,0,0,0,0,0,0] #35+ left\n",
    "    elif orient < -1*(25.0/45.0):\n",
    "        angle = [0,1,0,0,0,0,0,0,0] #25+ left\n",
    "    elif orient < -1*(15.0/45.0):\n",
    "        angle = [0,0,1,0,0,0,0,0,0] #15+ left\n",
    "    elif orient < -1*(5.0/45.0):\n",
    "        angle = [0,0,0,1,0,0,0,0,0] #5+ left\n",
    "    else:\n",
    "        angle = [0,0,0,0,1,0,0,0,0] #0 straight\n",
    "    return angle\n",
    "        \n",
    "print(f'Loaded images on average at {np.average(preprocessDelta)}us')\n",
    "#loop over labels and create a list of left/right/straight based on a degree threshold (one-hot encoding?)\n",
    "json_data = {}\n",
    "#y_labels = np.zeros((len(rec_list),3), dtype=np.float32) #setup label array for one-hot encoded left, right and straight\n",
    "y_labels = np.zeros((len(rec_list)*2,9), dtype=np.float32)\n",
    "#[-35,-25,-15,-5,0,5,15,25,35]\n",
    "for i in range(len(rec_list)):\n",
    "    start = datetime.datetime.now()\n",
    "    filename = rec_list[i]\n",
    "    with open(path+filename) as fp:\n",
    "        json_data = json.load(fp)\n",
    "        orient = json_data['user/angle']\n",
    "        orient = float(orient)\n",
    "        y_labels[i] = getAngle(orient)\n",
    "        y_labels[i+len(rec_list)] = getAngle(-1*orient)\n",
    "    end = datetime.datetime.now()\n",
    "    preprocessDelta[i] = (end-start).microseconds\n",
    "            \n",
    "print(f'Calculated angles on average at {np.average(preprocessDelta)}us')\n",
    "print(len(x_images))\n",
    "print(len(y_labels))\n",
    "print(x_images.shape)\n",
    "print(randomImage)\n",
    "plt.imshow(x_images[randomImage].astype('uint8'))\n",
    "plt.show()\n",
    "print(y_labels[randomImage])"
   ]
  },
  {
   "cell_type": "code",
   "execution_count": 48,
   "metadata": {},
   "outputs": [
    {
     "name": "stdout",
     "output_type": "stream",
     "text": [
      "(31590, 9)\n",
      "700\n",
      "1700\n",
      "2700\n",
      "3700\n",
      "4700\n",
      "5700\n",
      "6700\n",
      "7700\n",
      "8700\n",
      "9700\n",
      "10700\n",
      "11700\n",
      "12700\n",
      "13700\n",
      "14700\n",
      "15700\n",
      "16700\n",
      "17700\n",
      "18700\n",
      "19700\n",
      "20700\n",
      "21700\n",
      "22700\n",
      "23700\n",
      "24700\n",
      "25700\n",
      "26700\n",
      "27700\n",
      "28700\n",
      "29700\n",
      "30700\n",
      "(22114, 50, 50, 3)\n",
      "(9478, 50, 50, 3)\n",
      "(22114, 9)\n",
      "(9478, 9)\n",
      "[0. 0. 0. 0. 1. 0. 0. 0. 0.]\n"
     ]
    },
    {
     "data": {
      "image/png": "[encoded data removed]",
      "text/plain": [
       "<Figure size 432x288 with 1 Axes>"
      ]
     },
     "metadata": {
      "needs_background": "light"
     },
     "output_type": "display_data"
    }
   ],
   "source": [
    "#training and validation split:\n",
    "\n",
    "memv = 0\n",
    "memt = 0\n",
    "x_val = np.zeros((round(len(x_images)*0.3)+1,height, width, color), dtype=np.float32)\n",
    "x_train = np.zeros((round(len(x_images)*0.7)+1,height, width, color), dtype=np.float32)\n",
    "#y_val = np.zeros((round(len(x_images)*0.3)+1,3), dtype=np.float32)\n",
    "#y_train = np.zeros((round(len(x_images)*0.7)+1,3), dtype=np.float32)\n",
    "y_val = np.zeros((round(len(x_images)*0.3)+1,9), dtype=np.float32)\n",
    "y_train = np.zeros((round(len(x_images)*0.7)+1,9), dtype=np.float32)\n",
    "\n",
    "n=0\n",
    "print(y_labels.shape)\n",
    "\n",
    "for i in range(len(x_images)):\n",
    "    if (i>=1000)and(i % 1000 == 0):\n",
    "        j = i - 300\n",
    "        k = i - 1000\n",
    "        print(j)\n",
    "        o = 0\n",
    "        p = 0\n",
    "        for l in range(0+n*300, n*300+300):\n",
    "            #x_val[l] = x_images[j+o,:,:,:]\n",
    "            x_val[l] = x_images[j+o,:,:,:]\n",
    "            y_val[l] = y_labels[j+o]\n",
    "            o +=1\n",
    "        for m in range(0+n*700, n*700+700):\n",
    "            #x_train[m] = x_images[k+p,:,:,:]\n",
    "            x_train[m] = x_images[k+p,:,:,:]\n",
    "            y_train[m] = y_labels[k+p]\n",
    "            p+=1\n",
    "        n+=1\n",
    "        \n",
    "print(x_train.shape)\n",
    "print(x_val.shape)\n",
    "\n",
    "print(y_train.shape)\n",
    "print(y_val.shape)\n",
    "\n",
    "print(y_val[1000])\n",
    "plt.imshow(x_val[1000].astype('uint8'))\n",
    "plt.show()\n",
    "#obtaining test data\n",
    "\n",
    "#relabeling test data"
   ]
  },
  {
   "cell_type": "markdown",
   "metadata": {},
   "source": [
    "## Model Setup:"
   ]
  },
  {
   "cell_type": "code",
   "execution_count": 50,
   "metadata": {
    "scrolled": true
   },
   "outputs": [
    {
     "name": "stdout",
     "output_type": "stream",
     "text": [
      "Model: \"sequential_11\"\n",
      "_________________________________________________________________\n",
      "Layer (type)                 Output Shape              Param #   \n",
      "=================================================================\n",
      "conv2d_27 (Conv2D)           (None, 16, 16, 32)        2432      \n",
      "_________________________________________________________________\n",
      "conv2d_28 (Conv2D)           (None, 3, 3, 64)          51264     \n",
      "_________________________________________________________________\n",
      "conv2d_29 (Conv2D)           (None, 1, 1, 64)          36928     \n",
      "_________________________________________________________________\n",
      "flatten_11 (Flatten)         (None, 64)                0         \n",
      "_________________________________________________________________\n",
      "dense_19 (Dense)             (None, 32)                2080      \n",
      "_________________________________________________________________\n",
      "dense_20 (Dense)             (None, 9)                 297       \n",
      "=================================================================\n",
      "Total params: 93,001\n",
      "Trainable params: 93,001\n",
      "Non-trainable params: 0\n",
      "_________________________________________________________________\n"
     ]
    }
   ],
   "source": [
    "import os\n",
    "import numpy as np\n",
    "\n",
    "from tensorflow.python import keras\n",
    "from tensorflow.python.keras.layers import Input, Dense\n",
    "from tensorflow.python.keras.models import Model, Sequential\n",
    "from tensorflow.python.keras.layers import Convolution2D, MaxPooling2D, Reshape, BatchNormalization\n",
    "from tensorflow.python.keras.layers import Activation, Dropout, Flatten, Cropping2D, Lambda\n",
    "\n",
    "#Model Structure Setup: no dropout, no regularization yet\n",
    "\n",
    "#model = ''\n",
    "model = Sequential()\n",
    "#model.add(Convolution2D(24, (5,5), strides=(2,2), activation='relu', input_shape=(120, 160, 3)))\n",
    "#Number of feature maps\n",
    "#Kernel size matrix (thing that looks at picture)\n",
    "#Strides is how kernel moves accross the image\n",
    "#Activation is activation algorithm\n",
    "#Input shape is the image\n",
    "model.add(Convolution2D(32, (5,5), strides=(3,3), activation='relu', input_shape=(height, width, color)))\n",
    "model.add(Convolution2D(64, (5,5), strides=(5,5), activation='relu'))\n",
    "model.add(Convolution2D(64, (3,3), strides=(2,2), activation='relu'))\n",
    "#model.add(Convolution2D(128, (2,2), strides=(1,1), activation='relu'))\n",
    "#model.add(Convolution2D(128, (2,2), strides=(1,1), activation='relu'))\n",
    "model.add(Flatten())\n",
    "#model.add(Dense(256, activation='relu'))#Arbitrary \n",
    "#model.add(Dense(128, activation='relu'))#Arbitrary \n",
    "#model.add(Dense(64, activation='relu'))#Arbitrary\n",
    "model.add(Dense(32, activation='relu'))#Arbitrary \n",
    "model.add(Dense(9, activation='softmax'))\n",
    "\n",
    "model.compile(optimizer='adam',\n",
    "    loss='categorical_crossentropy',\n",
    "    metrics=['accuracy'])\n",
    "\n",
    "model.summary()"
   ]
  },
  {
   "cell_type": "markdown",
   "metadata": {},
   "source": [
    "## Training and Validation:"
   ]
  },
  {
   "cell_type": "code",
   "execution_count": 51,
   "metadata": {},
   "outputs": [
    {
     "name": "stdout",
     "output_type": "stream",
     "text": [
      "Train on 22114 samples, validate on 9478 samples\n",
      "Epoch 1/10\n",
      "22114/22114 [==============================] - 6s 267us/sample - loss: 1.6320 - accuracy: 0.3905 - val_loss: 1.3681 - val_accuracy: 0.4359\n",
      "Epoch 2/10\n",
      "22114/22114 [==============================] - 5s 239us/sample - loss: 1.2297 - accuracy: 0.5217 - val_loss: 1.3110 - val_accuracy: 0.4572\n",
      "Epoch 3/10\n",
      "22114/22114 [==============================] - 5s 239us/sample - loss: 1.2467 - accuracy: 0.5075 - val_loss: 1.3875 - val_accuracy: 0.4575\n",
      "Epoch 4/10\n",
      "22114/22114 [==============================] - 5s 246us/sample - loss: 1.2222 - accuracy: 0.5197 - val_loss: 1.3283 - val_accuracy: 0.4725\n",
      "Epoch 5/10\n",
      "22114/22114 [==============================] - 6s 259us/sample - loss: 1.1472 - accuracy: 0.5399 - val_loss: 1.2767 - val_accuracy: 0.4560\n",
      "Epoch 6/10\n",
      "22114/22114 [==============================] - 6s 275us/sample - loss: 1.1207 - accuracy: 0.5491 - val_loss: 1.2938 - val_accuracy: 0.4658\n",
      "Epoch 7/10\n",
      "22114/22114 [==============================] - 6s 266us/sample - loss: 1.0897 - accuracy: 0.5625 - val_loss: 1.2905 - val_accuracy: 0.4822\n",
      "Epoch 8/10\n",
      "22114/22114 [==============================] - 6s 268us/sample - loss: 1.0530 - accuracy: 0.5785 - val_loss: 1.2498 - val_accuracy: 0.4662\n",
      "Epoch 9/10\n",
      "22114/22114 [==============================] - 6s 268us/sample - loss: 1.0340 - accuracy: 0.5823 - val_loss: 1.2569 - val_accuracy: 0.4717\n",
      "Epoch 10/10\n",
      "22114/22114 [==============================] - 6s 281us/sample - loss: 1.0097 - accuracy: 0.5910 - val_loss: 1.2758 - val_accuracy: 0.4787\n"
     ]
    }
   ],
   "source": [
    "history = model.fit(x_train/255.0, y_train, epochs=10, batch_size=200, validation_data=(x_val/255.0, y_val), shuffle=True, verbose=1)"
   ]
  },
  {
   "cell_type": "code",
   "execution_count": 52,
   "metadata": {},
   "outputs": [
    {
     "name": "stdout",
     "output_type": "stream",
     "text": [
      "9478/1 - 1s - loss: 0.6379 - accuracy: 0.4787\n",
      "0.4786875\n"
     ]
    }
   ],
   "source": [
    "# Let's Evaluate\n",
    "test_loss, test_acc = model.evaluate(x_val/255.0,  y_val, verbose=2)\n",
    "print(test_acc)"
   ]
  },
  {
   "cell_type": "code",
   "execution_count": 53,
   "metadata": {},
   "outputs": [
    {
     "data": {
      "text/plain": [
       "<matplotlib.legend.Legend at 0x1543f652f48>"
      ]
     },
     "execution_count": 53,
     "metadata": {},
     "output_type": "execute_result"
    },
    {
     "data": {
      "image/png": "[encoded data removed]",
      "text/plain": [
       "<Figure size 432x288 with 1 Axes>"
      ]
     },
     "metadata": {
      "needs_background": "light"
     },
     "output_type": "display_data"
    }
   ],
   "source": [
    "import matplotlib.pyplot as plt\n",
    "\n",
    "plt.plot(history.history['accuracy'], label='accuracy')\n",
    "plt.plot(history.history['val_accuracy'], label='val_accuracy')\n",
    "plt.xlabel('Epoch')\n",
    "plt.ylabel('Accuracy')\n",
    "plt.ylim([0, 1])\n",
    "plt.legend(loc='lower right')"
   ]
  },
  {
   "cell_type": "code",
   "execution_count": 54,
   "metadata": {},
   "outputs": [
    {
     "data": {
      "text/plain": [
       "<matplotlib.legend.Legend at 0x1543f652cc8>"
      ]
     },
     "execution_count": 54,
     "metadata": {},
     "output_type": "execute_result"
    },
    {
     "data": {
      "image/png": "[encoded data removed]",
      "text/plain": [
       "<Figure size 432x288 with 1 Axes>"
      ]
     },
     "metadata": {
      "needs_background": "light"
     },
     "output_type": "display_data"
    }
   ],
   "source": [
    "plt.plot(history.history['loss'], label='loss')\n",
    "plt.plot(history.history['val_loss'], label='val_loss')\n",
    "plt.xlabel('Epoch')\n",
    "plt.ylabel('Loss')\n",
    "plt.legend(loc='lower right')"
   ]
  },
  {
   "cell_type": "code",
   "execution_count": 55,
   "metadata": {},
   "outputs": [
    {
     "name": "stdout",
     "output_type": "stream",
     "text": [
      "Expected\n",
      "[0. 0. 0. 0. 1. 0. 0. 0. 0.]\n",
      "Predicted\n",
      "[0. 0. 0. 0. 1. 0. 0. 0. 0.]\n"
     ]
    },
    {
     "data": {
      "image/png": "[encoded data removed]",
      "text/plain": [
       "<Figure size 432x288 with 1 Axes>"
      ]
     },
     "metadata": {
      "needs_background": "light"
     },
     "output_type": "display_data"
    },
    {
     "name": "stdout",
     "output_type": "stream",
     "text": [
      "Expected\n",
      "[1. 0. 0. 0. 0. 0. 0. 0. 0.]\n",
      "Predicted\n",
      "[1. 0. 0. 0. 0. 0. 0. 0. 0.]\n"
     ]
    },
    {
     "data": {
      "image/png": "[encoded data removed]",
      "text/plain": [
       "<Figure size 432x288 with 1 Axes>"
      ]
     },
     "metadata": {
      "needs_background": "light"
     },
     "output_type": "display_data"
    },
    {
     "name": "stdout",
     "output_type": "stream",
     "text": [
      "Expected\n",
      "[1. 0. 0. 0. 0. 0. 0. 0. 0.]\n",
      "Predicted\n",
      "[1. 0. 0. 0. 0. 0. 0. 0. 0.]\n"
     ]
    },
    {
     "data": {
      "image/png": "[encoded data removed]",
      "text/plain": [
       "<Figure size 432x288 with 1 Axes>"
      ]
     },
     "metadata": {
      "needs_background": "light"
     },
     "output_type": "display_data"
    }
   ],
   "source": [
    "out = model.predict(x_images/255.0, batch_size=200)\n",
    "out = np.around(out)\n",
    "\n",
    "pointOne = randomImage\n",
    "pointTwo = randomImage\n",
    "pointThree = randomImage\n",
    "\n",
    "if randomImage >= 100:\n",
    "    pointOne = randomImage - 100\n",
    "else:\n",
    "    pointOne = 0\n",
    "    \n",
    "if randomImage <= len(x_images) + 100:\n",
    "    pointThree = randomImage + 100\n",
    "else:\n",
    "    pointThree = len(x_images)\n",
    "\n",
    "#if round(out[pointOne,0]) == 1:\n",
    "#    print('left')\n",
    "#elif round(out[pointOne, 1]) == 1:\n",
    "#    print('straight')\n",
    "#elif round(out[pointOne, 2]) == 1:\n",
    "#    print('right')\n",
    "print('Expected')\n",
    "print(y_labels[pointOne])\n",
    "print('Predicted')\n",
    "print(out[pointOne])\n",
    "plt.imshow(x_images[pointOne].astype('uint8'))\n",
    "plt.show()\n",
    "\n",
    "#if round(out[pointTwo,0]) == 1:\n",
    "#    print('left')\n",
    "#elif round(out[pointTwo, 1]) == 1:\n",
    "#    print('straight')\n",
    "#elif round(out[pointTwo, 2]) == 1:\n",
    "#    print('right')\n",
    "print('Expected')\n",
    "print(y_labels[pointTwo])\n",
    "print('Predicted')\n",
    "print(out[pointTwo])\n",
    "plt.imshow(x_images[pointTwo].astype('uint8'))\n",
    "plt.show()\n",
    "\n",
    "#if round(out[pointThree,0]) == 1:\n",
    "#    print('left')\n",
    "#elif round(out[pointThree, 1]) == 1:\n",
    "#    print('straight')\n",
    "#elif round(out[pointThree, 2]) == 1:\n",
    "#    print('right')\n",
    "print('Expected')\n",
    "print(y_labels[pointThree])\n",
    "print('Predicted')\n",
    "print(out[pointThree])\n",
    "plt.imshow(x_images[pointThree].astype('uint8'))\n",
    "plt.show()"
   ]
  },
  {
   "cell_type": "code",
   "execution_count": null,
   "metadata": {},
   "outputs": [],
   "source": []
  }
 ],
 "metadata": {
  "kernelspec": {
   "display_name": "Python 3",
   "language": "python",
   "name": "python3"
  },
  "language_info": {
   "codemirror_mode": {
    "name": "ipython",
    "version": 3
   },
   "file_extension": ".py",
   "mimetype": "text/x-python",
   "name": "python",
   "nbconvert_exporter": "python",
   "pygments_lexer": "ipython3",
   "version": "3.7.4"
  }
 },
 "nbformat": 4,
 "nbformat_minor": 4
}
